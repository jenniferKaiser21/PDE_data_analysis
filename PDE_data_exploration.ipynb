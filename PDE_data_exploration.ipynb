{
 "cells": [
  {
   "cell_type": "code",
   "execution_count": 2,
   "id": "f275e2f2",
   "metadata": {},
   "outputs": [],
   "source": [
    "#initial importing of data from excel files to DataFrame, can uncomment to switch Data"
   ]
  },
  {
   "cell_type": "code",
   "execution_count": 77,
   "id": "4249d7aa",
   "metadata": {},
   "outputs": [
    {
     "name": "stdout",
     "output_type": "stream",
     "text": [
      "Finished creating DataFrames.\n"
     ]
    }
   ],
   "source": [
    "import pandas as pd\n",
    "\n",
    "df_13_14 = pd.read_excel(\"PDE_DATA_CLEAN/13_14.xlsx\")\n",
    "df_14_15 = pd.read_excel(\"PDE_DATA_CLEAN/14_15.xlsx\")\n",
    "#df_15_16 = pd.read_excel(\"PDE_DATA_CLEAN/15_16.xlsx\")\n",
    "#df_16_17 = pd.read_excel(\"PDE_DATA_CLEAN/16_17.xlsx\")\n",
    "#df_17_18 = pd.read_excel(\"PDE_DATA_CLEAN/17_18.xlsx\")\n",
    "#df_18_19 = pd.read_excel(\"PDE_DATA_CLEAN/18_19.xlsx\")\n",
    "#df_19_20 = pd.read_excel(\"PDE_DATA_CLEAN/19_20.xlsx\")\n",
    "#df_20_21 = pd.read_excel(\"PDE_DATA_CLEAN/20_21.xlsx\")\n",
    "df_21_22 = pd.read_excel(\"PDE_DATA_CLEAN/21_22.xlsx\")\n",
    "\n",
    "print(\"Finished creating DataFrames.\")"
   ]
  },
  {
   "cell_type": "code",
   "execution_count": 78,
   "id": "397f5f09",
   "metadata": {},
   "outputs": [],
   "source": [
    "#Examining the contents of the DataFrames, can uncomment to switch DataFrame"
   ]
  },
  {
   "cell_type": "code",
   "execution_count": 79,
   "id": "0011cb2d",
   "metadata": {},
   "outputs": [
    {
     "data": {
      "text/html": [
       "<div>\n",
       "<style scoped>\n",
       "    .dataframe tbody tr th:only-of-type {\n",
       "        vertical-align: middle;\n",
       "    }\n",
       "\n",
       "    .dataframe tbody tr th {\n",
       "        vertical-align: top;\n",
       "    }\n",
       "\n",
       "    .dataframe thead th {\n",
       "        text-align: right;\n",
       "    }\n",
       "</style>\n",
       "<table border=\"1\" class=\"dataframe\">\n",
       "  <thead>\n",
       "    <tr style=\"text-align: right;\">\n",
       "      <th></th>\n",
       "      <th>SY</th>\n",
       "      <th>Staff Snapshot Date</th>\n",
       "      <th>PublicID</th>\n",
       "      <th>Last Name</th>\n",
       "      <th>First Name</th>\n",
       "      <th>MiddleName</th>\n",
       "      <th>Suffix</th>\n",
       "      <th>Gender</th>\n",
       "      <th>AnnualSalary</th>\n",
       "      <th>DegreeCode</th>\n",
       "      <th>...</th>\n",
       "      <th>FT/PT</th>\n",
       "      <th>JobClass</th>\n",
       "      <th>AssignCd</th>\n",
       "      <th>Assignment Description</th>\n",
       "      <th>PositionCd</th>\n",
       "      <th>PositionDescription</th>\n",
       "      <th>EDFCd</th>\n",
       "      <th>EDFactsDescription</th>\n",
       "      <th>CategoryDescription</th>\n",
       "      <th>FTE%</th>\n",
       "    </tr>\n",
       "  </thead>\n",
       "  <tbody>\n",
       "    <tr>\n",
       "      <th>0</th>\n",
       "      <td>2014-15</td>\n",
       "      <td>2014-10-01 00:00:00</td>\n",
       "      <td>-2144618496</td>\n",
       "      <td>Eckert</td>\n",
       "      <td>Jennifer</td>\n",
       "      <td>NaN</td>\n",
       "      <td>NaN</td>\n",
       "      <td>F</td>\n",
       "      <td>54590.0</td>\n",
       "      <td>1054</td>\n",
       "      <td>...</td>\n",
       "      <td>full time</td>\n",
       "      <td>PE</td>\n",
       "      <td>1875</td>\n",
       "      <td>School Psychologist</td>\n",
       "      <td>108.0</td>\n",
       "      <td>Health / Welfare</td>\n",
       "      <td>15.0</td>\n",
       "      <td>STUSUP</td>\n",
       "      <td>Coordinate Services</td>\n",
       "      <td>100</td>\n",
       "    </tr>\n",
       "    <tr>\n",
       "      <th>1</th>\n",
       "      <td>2014-15</td>\n",
       "      <td>2014-10-01 00:00:00</td>\n",
       "      <td>-2144570305</td>\n",
       "      <td>McCann</td>\n",
       "      <td>Natalie</td>\n",
       "      <td>NaN</td>\n",
       "      <td>NaN</td>\n",
       "      <td>F</td>\n",
       "      <td>59455.0</td>\n",
       "      <td>1054</td>\n",
       "      <td>...</td>\n",
       "      <td>full time</td>\n",
       "      <td>NaN</td>\n",
       "      <td>2844</td>\n",
       "      <td>Elementary, Primary Grades 1-3 1/</td>\n",
       "      <td>111.0</td>\n",
       "      <td>Elementary Teacher</td>\n",
       "      <td>3.0</td>\n",
       "      <td>ELMTCH</td>\n",
       "      <td>Classroom Teachers</td>\n",
       "      <td>100</td>\n",
       "    </tr>\n",
       "    <tr>\n",
       "      <th>2</th>\n",
       "      <td>2014-15</td>\n",
       "      <td>2014-10-01 00:00:00</td>\n",
       "      <td>-2144567542</td>\n",
       "      <td>Olisky</td>\n",
       "      <td>Margaret</td>\n",
       "      <td>NaN</td>\n",
       "      <td>NaN</td>\n",
       "      <td>F</td>\n",
       "      <td>90000.0</td>\n",
       "      <td>1054</td>\n",
       "      <td>...</td>\n",
       "      <td>full time</td>\n",
       "      <td>NaN</td>\n",
       "      <td>9625</td>\n",
       "      <td>Visually Impaired Resource, PreK-12</td>\n",
       "      <td>113.0</td>\n",
       "      <td>Ungraded Special Ed. Teacher</td>\n",
       "      <td>5.0</td>\n",
       "      <td>UGTCH</td>\n",
       "      <td>Classroom Teachers</td>\n",
       "      <td>100</td>\n",
       "    </tr>\n",
       "    <tr>\n",
       "      <th>3</th>\n",
       "      <td>2014-15</td>\n",
       "      <td>2014-10-01 00:00:00</td>\n",
       "      <td>-2144509443</td>\n",
       "      <td>WEISS</td>\n",
       "      <td>LISA</td>\n",
       "      <td>M</td>\n",
       "      <td>NaN</td>\n",
       "      <td>F</td>\n",
       "      <td>59653.0</td>\n",
       "      <td>1054</td>\n",
       "      <td>...</td>\n",
       "      <td>full time</td>\n",
       "      <td>PE</td>\n",
       "      <td>2844</td>\n",
       "      <td>Elementary, Primary Grades 1-3 1/</td>\n",
       "      <td>111.0</td>\n",
       "      <td>Elementary Teacher</td>\n",
       "      <td>3.0</td>\n",
       "      <td>ELMTCH</td>\n",
       "      <td>Classroom Teachers</td>\n",
       "      <td>100</td>\n",
       "    </tr>\n",
       "    <tr>\n",
       "      <th>4</th>\n",
       "      <td>2014-15</td>\n",
       "      <td>2014-10-01 00:00:00</td>\n",
       "      <td>-2144475810</td>\n",
       "      <td>VIECZOREK</td>\n",
       "      <td>MARIE</td>\n",
       "      <td>A</td>\n",
       "      <td>NaN</td>\n",
       "      <td>F</td>\n",
       "      <td>52654.0</td>\n",
       "      <td>1054</td>\n",
       "      <td>...</td>\n",
       "      <td>full time</td>\n",
       "      <td>PE</td>\n",
       "      <td>2843</td>\n",
       "      <td>Kindergarten, age 5 (K5)</td>\n",
       "      <td>111.0</td>\n",
       "      <td>Elementary Teacher</td>\n",
       "      <td>2.0</td>\n",
       "      <td>KGTCH</td>\n",
       "      <td>Classroom Teachers</td>\n",
       "      <td>100</td>\n",
       "    </tr>\n",
       "  </tbody>\n",
       "</table>\n",
       "<p>5 rows × 34 columns</p>\n",
       "</div>"
      ],
      "text/plain": [
       "        SY  Staff Snapshot Date    PublicID  Last Name First Name MiddleName  \\\n",
       "0  2014-15  2014-10-01 00:00:00 -2144618496     Eckert   Jennifer        NaN   \n",
       "1  2014-15  2014-10-01 00:00:00 -2144570305     McCann    Natalie        NaN   \n",
       "2  2014-15  2014-10-01 00:00:00 -2144567542     Olisky   Margaret        NaN   \n",
       "3  2014-15  2014-10-01 00:00:00 -2144509443      WEISS       LISA          M   \n",
       "4  2014-15  2014-10-01 00:00:00 -2144475810  VIECZOREK      MARIE          A   \n",
       "\n",
       "  Suffix Gender  AnnualSalary  DegreeCode  ...      FT/PT  JobClass  AssignCd  \\\n",
       "0    NaN      F       54590.0        1054  ...  full time        PE      1875   \n",
       "1    NaN      F       59455.0        1054  ...  full time       NaN      2844   \n",
       "2    NaN      F       90000.0        1054  ...  full time       NaN      9625   \n",
       "3    NaN      F       59653.0        1054  ...  full time        PE      2844   \n",
       "4    NaN      F       52654.0        1054  ...  full time        PE      2843   \n",
       "\n",
       "                Assignment Description  PositionCd  \\\n",
       "0                  School Psychologist       108.0   \n",
       "1    Elementary, Primary Grades 1-3 1/       111.0   \n",
       "2  Visually Impaired Resource, PreK-12       113.0   \n",
       "3    Elementary, Primary Grades 1-3 1/       111.0   \n",
       "4             Kindergarten, age 5 (K5)       111.0   \n",
       "\n",
       "            PositionDescription EDFCd  EDFactsDescription  \\\n",
       "0              Health / Welfare  15.0              STUSUP   \n",
       "1            Elementary Teacher   3.0              ELMTCH   \n",
       "2  Ungraded Special Ed. Teacher   5.0               UGTCH   \n",
       "3            Elementary Teacher   3.0              ELMTCH   \n",
       "4            Elementary Teacher   2.0               KGTCH   \n",
       "\n",
       "   CategoryDescription  FTE%  \n",
       "0  Coordinate Services   100  \n",
       "1   Classroom Teachers   100  \n",
       "2   Classroom Teachers   100  \n",
       "3   Classroom Teachers   100  \n",
       "4   Classroom Teachers   100  \n",
       "\n",
       "[5 rows x 34 columns]"
      ]
     },
     "execution_count": 79,
     "metadata": {},
     "output_type": "execute_result"
    }
   ],
   "source": [
    "df_13_14.head()\n",
    "df_14_15.head()\n",
    "#df_15_16.head()\n",
    "#df_16_17.head()\n",
    "#df_17_18.head()\n",
    "#df_18_19.head()\n",
    "#df_19_20.head()\n",
    "#df_20_21.head()\n",
    "#df_21_22.head()"
   ]
  },
  {
   "cell_type": "code",
   "execution_count": 80,
   "id": "7ffc9fe3",
   "metadata": {},
   "outputs": [],
   "source": [
    "#Examining the columns of the DataFrame"
   ]
  },
  {
   "cell_type": "code",
   "execution_count": 178,
   "id": "3a166ccc",
   "metadata": {},
   "outputs": [
    {
     "data": {
      "text/plain": [
       "34"
      ]
     },
     "execution_count": 178,
     "metadata": {},
     "output_type": "execute_result"
    }
   ],
   "source": [
    "len(df_13_14.columns)\n",
    "#df_14_15.columns\n",
    "#df_15_16.columns\n",
    "#df_16_17.columns\n",
    "#df_17_18.columns\n",
    "#df_18_19.columns\n",
    "#df_19_20.columns\n",
    "#df_20_21.columns\n",
    "#df_21_22.columns"
   ]
  },
  {
   "cell_type": "code",
   "execution_count": 82,
   "id": "7de2531f",
   "metadata": {},
   "outputs": [
    {
     "data": {
      "text/plain": [
       "34"
      ]
     },
     "execution_count": 82,
     "metadata": {},
     "output_type": "execute_result"
    }
   ],
   "source": [
    "len(df_14_15.columns)"
   ]
  },
  {
   "cell_type": "code",
   "execution_count": 83,
   "id": "8c39dd9e",
   "metadata": {},
   "outputs": [],
   "source": [
    "#How many records are there in df_13_14?"
   ]
  },
  {
   "cell_type": "code",
   "execution_count": 84,
   "id": "ccd8c361",
   "metadata": {},
   "outputs": [
    {
     "data": {
      "text/plain": [
       "190900"
      ]
     },
     "execution_count": 84,
     "metadata": {},
     "output_type": "execute_result"
    }
   ],
   "source": [
    "len(df_13_14)"
   ]
  },
  {
   "cell_type": "code",
   "execution_count": 85,
   "id": "cbf12888",
   "metadata": {},
   "outputs": [],
   "source": [
    "#How many records are there in df_14_15?"
   ]
  },
  {
   "cell_type": "code",
   "execution_count": 86,
   "id": "ef22ea83",
   "metadata": {},
   "outputs": [
    {
     "data": {
      "text/plain": [
       "188465"
      ]
     },
     "execution_count": 86,
     "metadata": {},
     "output_type": "execute_result"
    }
   ],
   "source": [
    "len(df_14_15)"
   ]
  },
  {
   "cell_type": "code",
   "execution_count": 179,
   "id": "2dd4d23d",
   "metadata": {},
   "outputs": [
    {
     "data": {
      "text/plain": [
       "{'AUN',\n",
       " 'AnnualSalary',\n",
       " 'AssignCd',\n",
       " 'Assignment Description',\n",
       " 'DegreeCode',\n",
       " 'DegreeDescription',\n",
       " 'FT/PT',\n",
       " 'FTE%',\n",
       " 'First Name',\n",
       " 'Gender',\n",
       " 'IU',\n",
       " 'JobClass',\n",
       " 'LEACounty',\n",
       " 'LEACountyCd',\n",
       " 'LEAName',\n",
       " 'LEATypeDescription',\n",
       " 'Last Name',\n",
       " 'PublicID',\n",
       " 'SY',\n",
       " 'SchNum',\n",
       " 'School',\n",
       " 'Staff Snapshot Date',\n",
       " 'Status',\n",
       " 'Suffix',\n",
       " 'YearsInLEA'}"
      ]
     },
     "execution_count": 179,
     "metadata": {},
     "output_type": "execute_result"
    }
   ],
   "source": [
    "#unique column names in both df_14_15 and df_21_22\n",
    "set(df_14_15.columns).intersection(set(df_21_22.columns))"
   ]
  },
  {
   "cell_type": "code",
   "execution_count": 180,
   "id": "deb92039",
   "metadata": {},
   "outputs": [
    {
     "data": {
      "text/plain": [
       "{'CategoryDescription',\n",
       " 'EDFCd',\n",
       " 'EDFactsDescription',\n",
       " 'MiddleName',\n",
       " 'PositionCd',\n",
       " 'PositionDescription',\n",
       " 'SchoolCounty',\n",
       " 'SchoolCountyCode',\n",
       " 'YearsInEd'}"
      ]
     },
     "execution_count": 180,
     "metadata": {},
     "output_type": "execute_result"
    }
   ],
   "source": [
    "#columns in df_14_15 but not in df_21_22\n",
    "set(df_14_15.columns).difference(set(df_21_22.columns))"
   ]
  },
  {
   "cell_type": "code",
   "execution_count": 181,
   "id": "15088d2d",
   "metadata": {},
   "outputs": [
    {
     "data": {
      "text/plain": [
       "{'Category Description 2017-',\n",
       " 'EDF Category',\n",
       " 'EDFNum',\n",
       " 'IUName',\n",
       " 'Middle Name',\n",
       " 'Pos 2017-',\n",
       " 'Position Description 2017-',\n",
       " 'Primary Assignment',\n",
       " 'YearsInED'}"
      ]
     },
     "execution_count": 181,
     "metadata": {},
     "output_type": "execute_result"
    }
   ],
   "source": [
    "#columns in df_21_22 but not in df_14_15\n",
    "set(df_21_22.columns).difference(set(df_14_15.columns))"
   ]
  },
  {
   "cell_type": "code",
   "execution_count": 90,
   "id": "61931b06",
   "metadata": {},
   "outputs": [],
   "source": [
    "#Exploring if df_13_14[\"Active/Leave/Other\"] and df_14_15[\"Status\"] columns show the same data"
   ]
  },
  {
   "cell_type": "code",
   "execution_count": 91,
   "id": "ed49d2c3",
   "metadata": {},
   "outputs": [
    {
     "data": {
      "text/plain": [
       "0         Active\n",
       "1         Active\n",
       "2         Active\n",
       "3         Active\n",
       "4         Active\n",
       "           ...  \n",
       "190895    Active\n",
       "190896    Active\n",
       "190897    Active\n",
       "190898    Active\n",
       "190899    Active\n",
       "Name: Active/Leave/Other, Length: 190900, dtype: object"
      ]
     },
     "execution_count": 91,
     "metadata": {},
     "output_type": "execute_result"
    }
   ],
   "source": [
    "df_13_14[\"Active/Leave/Other\"]"
   ]
  },
  {
   "cell_type": "code",
   "execution_count": 92,
   "id": "a6596992",
   "metadata": {},
   "outputs": [
    {
     "data": {
      "text/plain": [
       "0         Active\n",
       "1         Active\n",
       "2         Active\n",
       "3         Active\n",
       "4         Active\n",
       "           ...  \n",
       "188460    Active\n",
       "188461    Active\n",
       "188462    Active\n",
       "188463    Active\n",
       "188464    Active\n",
       "Name: Status, Length: 188465, dtype: object"
      ]
     },
     "execution_count": 92,
     "metadata": {},
     "output_type": "execute_result"
    }
   ],
   "source": [
    "df_14_15[\"Status\"]"
   ]
  },
  {
   "cell_type": "code",
   "execution_count": 93,
   "id": "19720a87",
   "metadata": {},
   "outputs": [],
   "source": [
    "#Listing all Assignment Descriptions in df_13_14"
   ]
  },
  {
   "cell_type": "code",
   "execution_count": 94,
   "id": "46597cd0",
   "metadata": {
    "scrolled": true
   },
   "outputs": [
    {
     "data": {
      "text/plain": [
       "0                                  Art, Secondary (7-12)\n",
       "1         Developmental Reading, Secondary Classes, 7-12\n",
       "2                       Middle Level Social Studies, 7-9\n",
       "3                               Kindergarten, age 5 (K5)\n",
       "4                           English/Communication, 10-12\n",
       "                               ...                      \n",
       "190895                           Pre Kindergarten (PreK)\n",
       "190896                          Art, Elementary (PreK-6)\n",
       "190897                           Environmental Education\n",
       "190898           Special Ed, Elementary Subjects, PreK-6\n",
       "190899                 Elementary, Primary Grades 1-3 1/\n",
       "Name: Assignment Description, Length: 190900, dtype: object"
      ]
     },
     "execution_count": 94,
     "metadata": {},
     "output_type": "execute_result"
    }
   ],
   "source": [
    "df_13_14[\"Assignment Description\"]"
   ]
  },
  {
   "cell_type": "code",
   "execution_count": 96,
   "id": "49e18cef",
   "metadata": {},
   "outputs": [],
   "source": [
    "#Importing matplotlib\n",
    "\n",
    "import matplotlib.pyplot as plt\n",
    "\n",
    "#Grouping teachers by \"Assignment Description\" and saving the top 5 in df_top5\n",
    "\n",
    "assignments = df_14_15.groupby(\"Assignment Description\")['PublicID'].nunique()\n",
    "df_top5 = assignments.sort_values(ascending=False)[:5]"
   ]
  },
  {
   "cell_type": "code",
   "execution_count": 99,
   "id": "d4bb06a7",
   "metadata": {},
   "outputs": [],
   "source": [
    "#Print test of df_top5"
   ]
  },
  {
   "cell_type": "code",
   "execution_count": 100,
   "id": "93ab0202",
   "metadata": {
    "scrolled": false
   },
   "outputs": [
    {
     "name": "stdout",
     "output_type": "stream",
     "text": [
      "Assignment Description\n",
      "Elementary, Primary Grades 1-3 1/          19603\n",
      "Elementary, Intermediate Grades 4-6 1/     17521\n",
      "Special Ed, Resource PreK-12                9125\n",
      "Special Ed, Elementary Subjects, PreK-6     5912\n",
      "Kindergarten, age 5 (K5)                    5330\n",
      "Name: PublicID, dtype: int64\n"
     ]
    }
   ],
   "source": [
    "print(df_top5)\n",
    "\n",
    "\n",
    "#Creating a Bar Chart to plot the top 5 Teacher Assignment Titles and their frequency"
   ]
  },
  {
   "cell_type": "code",
   "execution_count": 126,
   "id": "c060242e",
   "metadata": {},
   "outputs": [
    {
     "data": {
      "text/plain": [
       "Text(0, 0.5, 'Number of Teachers')"
      ]
     },
     "execution_count": 126,
     "metadata": {},
     "output_type": "execute_result"
    },
    {
     "data": {
      "image/png": "[encoded data removed]",
      "text/plain": [
       "<Figure size 720x432 with 1 Axes>"
      ]
     },
     "metadata": {
      "needs_background": "light"
     },
     "output_type": "display_data"
    }
   ],
   "source": [
    "top5_chart_14_15 = df_top5.plot(kind='bar', figsize=(10, 6), color = 'blue')\n",
    "top5_chart_14_15.set_title('Number of Teachers per Assignment Title (Top 5) 2014-2015')\n",
    "top5_chart_14_15.set_xlabel('Assignment Title')\n",
    "top5_chart_14_15.set_ylabel('Number of Teachers')\n",
    "#plt.show()"
   ]
  },
  {
   "cell_type": "code",
   "execution_count": 127,
   "id": "9bde7ca8",
   "metadata": {},
   "outputs": [],
   "source": [
    "#Creating a Bar Chart to plot the top 5 teacher Assignment Titles and their frequency in 2021-2022"
   ]
  },
  {
   "cell_type": "code",
   "execution_count": 136,
   "id": "179a106e",
   "metadata": {},
   "outputs": [
    {
     "data": {
      "text/plain": [
       "Text(0, 0.5, 'Number of Teachers')"
      ]
     },
     "execution_count": 136,
     "metadata": {},
     "output_type": "execute_result"
    },
    {
     "data": {
      "image/png": "[encoded data removed]",
      "text/plain": [
       "<Figure size 720x432 with 1 Axes>"
      ]
     },
     "metadata": {
      "needs_background": "light"
     },
     "output_type": "display_data"
    }
   ],
   "source": [
    "assignments_21_22 = df_21_22.groupby(\"Assignment Description\")['PublicID'].nunique()\n",
    "df_top5_21_22 = assignments_21_22.sort_values(ascending=False)[:5]\n",
    "top5_chart_21_22 = df_top5_21_22.plot(kind='bar', figsize=(10, 6), color = 'pink')\n",
    "top5_chart_21_22.set_title('Number of Teachers per Assignment Title (Top 5) 2021-2022')\n",
    "top5_chart_21_22.set_xlabel('Assignment Title')\n",
    "top5_chart_21_22.set_ylabel('Number of Teachers')\n",
    "#plt.show()"
   ]
  },
  {
   "cell_type": "code",
   "execution_count": null,
   "id": "4d209dc5",
   "metadata": {},
   "outputs": [],
   "source": []
  },
  {
   "cell_type": "code",
   "execution_count": 137,
   "id": "e9e1d6a1",
   "metadata": {},
   "outputs": [
    {
     "data": {
      "image/png": "[encoded data removed]",
      "text/plain": [
       "<Figure size 864x432 with 2 Axes>"
      ]
     },
     "metadata": {
      "needs_background": "light"
     },
     "output_type": "display_data"
    }
   ],
   "source": [
    "# get top 5 assignments from 2014-2015 data\n",
    "assignments = df_14_15.groupby(\"Assignment Description\")['PublicID'].nunique()\n",
    "df_top5 = assignments.sort_values(ascending=False)[:5]\n",
    "\n",
    "# get top 5 assignments from 2021-2022 data\n",
    "assignments_21_22 = df_21_22.groupby(\"Assignment Description\")['PublicID'].nunique()\n",
    "df_top5_21_22 = assignments_21_22.sort_values(ascending=False)[:5]\n",
    "\n",
    "# create two axes\n",
    "fig, (ax1, ax2) = plt.subplots(1, 2, figsize=(12, 6))\n",
    "\n",
    "# plot top 5 assignments from 2014-2015 on first axis\n",
    "df_top5.plot.bar(ax=ax1, position=0, color='blue')\n",
    "ax1.set_title('Number of Teachers per Assignment Title (Top 5) 2014-2015')\n",
    "ax1.set_xlabel('Assignment Title')\n",
    "ax1.set_ylabel('Number of Teachers')\n",
    "\n",
    "# plot top 5 assignments from 2021-2022 on second axis\n",
    "df_top5_21_22.plot.bar(ax=ax2, position=1, color='pink')\n",
    "ax2.set_title('Number of Teachers per Assignment Title (Top 5) 2021-2022')\n",
    "ax2.set_xlabel('Assignment Title')\n",
    "ax2.set_ylabel('Number of Teachers')\n",
    "\n",
    "plt.show()"
   ]
  },
  {
   "cell_type": "code",
   "execution_count": 142,
   "id": "dae5baa4",
   "metadata": {},
   "outputs": [
    {
     "data": {
      "image/png": "[encoded data removed]",
      "text/plain": [
       "<Figure size 1440x432 with 1 Axes>"
      ]
     },
     "metadata": {
      "needs_background": "light"
     },
     "output_type": "display_data"
    }
   ],
   "source": [
    "# Data for chart 1\n",
    "assignments_14_15 = df_14_15.groupby(\"Assignment Description\")['PublicID'].nunique()\n",
    "df_top5_14_15 = assignments_14_15.sort_values(ascending=False)[:5]\n",
    "values1 = df_top5_14_15.values\n",
    "labels1 = df_top5_14_15.index\n",
    "\n",
    "# Data for chart 2\n",
    "assignments_21_22 = df_21_22.groupby(\"Assignment Description\")['PublicID'].nunique()\n",
    "df_top5_21_22 = assignments_21_22.sort_values(ascending=False)[:5]\n",
    "values2 = df_top5_21_22.values\n",
    "labels2 = df_top5_21_22.index\n",
    "\n",
    "# Set up the plot\n",
    "fig, ax = plt.subplots(figsize=(20, 6))\n",
    "\n",
    "# Set up the x-axis\n",
    "x = np.arange(len(labels1))\n",
    "width = 0.35  # the width of the bars\n",
    "\n",
    "# Plot the bars for chart 1\n",
    "rects1 = ax.bar(x - width/2, values1, width, label='2014-2015', color='blue')\n",
    "\n",
    "# Plot the bars for chart 2\n",
    "rects2 = ax.bar(x + width/2, values2, width, label='2021-2022', color='pink')\n",
    "\n",
    "# Set up the labels and title\n",
    "ax.set_ylabel('Number of Teachers')\n",
    "ax.set_xlabel('Assignment Title')\n",
    "ax.set_title('Number of Teachers per Assignment Title (Top 5)')\n",
    "ax.set_xticks(x)\n",
    "ax.set_xticklabels(labels1)\n",
    "ax.legend()\n",
    "\n",
    "\n",
    "plt.show()"
   ]
  },
  {
   "cell_type": "code",
   "execution_count": 170,
   "id": "77658cb2",
   "metadata": {},
   "outputs": [
    {
     "name": "stdout",
     "output_type": "stream",
     "text": [
      "Accounting/Bookkeeping\n",
      "Acting Assistant Superintendent\n",
      "Acting Superintendent\n",
      "Agricultural Mechanics\n",
      "Agricultural Power and Machinery\n",
      "Agriculture\n",
      "Air Conditioning\n",
      "Air Conditioning/Refrigeration\n",
      "Allied Health Science Technology\n",
      "Alternate Education Program, K-6\n",
      "Alternate Education, Middle Level English, 7-9\n",
      "Alternate Education, Middle Level Math, 7-9\n",
      "Alternate Education, Middle Level Science, 7-9\n",
      "Alternate Education, Middle Level Social Studies, 7-9\n",
      "Alternate Education, Secondary English, 10-12\n",
      "Alternate Education, Secondary Math, 10-12\n",
      "Alternate Education, Secondary Science, 10-12\n",
      "Alternate Education, Secondary Social Studies, 10-12\n",
      "Alternative Education, K-12 Resource Room\n",
      "Anthropology\n",
      "Appliance Repair\n",
      "Arabic\n",
      "Architectural-Design Technology\n",
      "Art, Elementary (PreK-6)\n",
      "Art, Secondary (7-12)\n",
      "Assistant Superintendent\n",
      "Assistant Vocational Director\n",
      "Assistant or Vice Elementary Principal\n",
      "Assistant or Vice Middle School Principal\n",
      "Assistant or Vice Secondary Principal\n",
      "Assistant to the Superintendent in Charge of Business Affairs\n",
      "Assistant to the Superintendent in Charge of Instruction\n",
      "Audio-visual Communications Technology\n",
      "Auto Parts Counterman\n",
      "Auto-Diesel Mechanic\n",
      "Automotive Body and Fender\n",
      "Automotive Maintenance\n",
      "Automotive Mechanics\n",
      "Automotive Technician\n",
      "Automotive Technology\n",
      "Baker\n",
      "Barbering\n",
      "Biological Technology\n",
      "Biology\n",
      "Blue Print Reading\n",
      "Brick Masonry\n",
      "Building Construction Trades\n",
      "Building Trades Maintenance\n",
      "Business Education, Elementary\n",
      "Business Education, Secondary\n",
      "Business Manager\n",
      "Carpentry\n",
      "Ceramics, Vocational\n",
      "Chemistry\n",
      "Chief Administrative Officer (charter schools only)\n",
      "Child Care Services\n",
      "Chinese\n",
      "Citizenship\n",
      "Civil Technology\n",
      "Commercial Art\n",
      "Commercial Photography\n",
      "Computer Science, Elementary, PreK-6\n",
      "Computer Science, Secondary, 7-12\n",
      "Computer Servicing Technology\n",
      "Computer Technology\n",
      "Computer Technology Specialist\n",
      "Consumer Services\n",
      "Cook/Chef\n",
      "Cooperative Education\n",
      "Coordinator, Audio-visual Materials\n",
      "Coordinator, Marketing/Distributive Education\n",
      "Coordinator, Practical Nursing\n",
      "Coordinator, Specially Funded Programs\n",
      "Coordinator, Vocational Education\n",
      "Cosmetology\n",
      "Custodial Services\n",
      "Dance\n",
      "Data Processing\n",
      "Dental Assistant\n",
      "Dental Hygienist\n",
      "Developmental Reading, Elementary Classes, PreK-6\n",
      "Developmental Reading, Secondary Classes, 7-12\n",
      "Diagnostic/Prescriptive Reading, Elementary, PreK-6\n",
      "Diagnostic/Prescriptive Reading, Secondary, 7-12\n",
      "Diesel Mechanic\n",
      "Digital Technology\n",
      "Director of Athletics\n",
      "Director of Management Information Systems\n",
      "Director of Personnel\n",
      "Director of Recreation\n",
      "Director, Vocational Education\n",
      "Distributive Education\n",
      "Drafting\n",
      "Drafting-Architectural\n",
      "Drafting-Mechanical\n",
      "Drama\n",
      "Driver Education\n",
      "Earth and Space Science, Advanced\n",
      "Earth and Space Science, Intermediate\n",
      "Economics\n",
      "Education Program Specialist\n",
      "Electrical Occupations\n",
      "Electrical Power and Comm. Lineperson\n",
      "Electrical Technology\n",
      "Electrical, Construction/Maintenance\n",
      "Electrical, General\n",
      "Electrical, Industrial\n",
      "Electro-Mechanical Technology\n",
      "Electronic Composition\n",
      "Electronics\n",
      "Electronics Communications\n",
      "Electronics Technology\n",
      "Elementary Principal\n",
      "Elementary School Counselor\n",
      "Elementary, Intermediate Grades 4-6 1/\n",
      "Elementary, Primary Grades 1-3 1/\n",
      "Engineering Related Technology\n",
      "English as Second Language, Elementary, PreK-6\n",
      "English as Second Language, K-12 Resource \n",
      "(Take student out for language support)\n",
      "English as Second Language, Middle Level English, 7-9\n",
      "English as Second Language, Middle Level Math, 7-9\n",
      "English as Second Language, Middle Level Science, 7-9\n",
      "English as Second Language, Middle Level Social Studies, 7-9\n",
      "English as Second Language, Secondary English, 10-12\n",
      "English as Second Language, Secondary Math, 10-12\n",
      "English as Second Language, Secondary Science, 10-12\n",
      "English as Second Language, Secondary Social Studies, 10-12\n",
      "English/Communication, 10-12\n",
      "Environmental Education\n",
      "Family/Consumer Sciences, Elementary, PreK-6\n",
      "Family/Consumer Sciences, Secondary, 7-12\n",
      "Floriculture\n",
      "Food Service Manager\n",
      "French, 6-12\n",
      "French, Elementary, PreK-6\n",
      "General Science, Advanced, 10-12\n",
      "General Science, Intermediate, 10-12\n",
      "Geography, 10-12\n",
      "German, 7-12\n",
      "German, Elementary, PreK-6\n",
      "Gifted Classes, Elementary. PreK-6\n",
      "Gifted Classes, Tutorial/Resource, Secondary, 7-12\n",
      "Government, 10-12\n",
      "Graphic Arts\n",
      "Graphic Occupations\n",
      "Health\n",
      "Health Assistant\n",
      "Health Related Technology\n",
      "Health and Physical Education, Elementary, PreK-6\n",
      "Health and Physical Education, Secondary, 7-12\n",
      "Hearing Impaired Elementary, PreK-6\n",
      "Hearing Impaired Middle Level English, 7-9\n",
      "Hearing Impaired Middle Level Math, 7-9\n",
      "Hearing Impaired Middle Level Science, 7-9\n",
      "Hearing Impaired Middle Level Social Studies, 7-9\n",
      "Hearing Impaired Resource, PreK-12\n",
      "Hearing Impaired Secondary English, 10-12\n",
      "Hearing Impaired Secondary Math, 10-12\n",
      "Hearing Impaired Secondary Science, 10-12\n",
      "Hearing Impaired Secondary Social Studies, 10-12\n",
      "Hearing Impaired, Elementary\n",
      "Hearing Impaired, Secondary\n",
      "Heating\n",
      "Heavy Equipment Construction\n",
      "History, 10-12\n",
      "Home Economics\n",
      "Home and School Visitor\n",
      "Horticulture/Floriculture\n",
      "Hotel/Motel Management\n",
      "Industrial Arts, Automotives Unit Shop\n",
      "Industrial Arts, Drawing Unit Shop\n",
      "Industrial Arts, Electricity Unit Shop\n",
      "Industrial Arts, Graphic Arts Unit Shop\n",
      "Industrial Arts, Metal Unit Shop\n",
      "Industrial Arts, Plastics Unit Shop\n",
      "Industrial Arts, Printing Unit Shop\n",
      "Industrial Arts, Textiles Unit Shop\n",
      "Industrial Arts, Wood Unit Shop\n",
      "Industrial Arts/Technology Education\n",
      "Industrial Production and Maintenance\n",
      "Industrial Technology\n",
      "Instructional Support Teachers\n",
      "Instructional Technology Specialist\n",
      "Interior Decorating\n",
      "Intermediate Unit Assistant Executive Director\n",
      "Intermediate Unit Executive Director\n",
      "Intermediate Unit Program Specialist\n",
      "Italian\n",
      "Japanese\n",
      "Journalism\n",
      "Kindergarten, age 4 (K4)\n",
      "Kindergarten, age 5 (K5)\n",
      "Latin, 7-12\n",
      "Latin, Elementary, PreK-6\n",
      "Law Enforcement\n",
      "Library Sciences, Elementary, PreK-6\n",
      "Library Sciences, Secondary, 7-12\n",
      "Life Science, Intermediate, 10-12\n",
      "Literacy, Staff Coach\n",
      "Lumbering\n",
      "Machine Shop\n",
      "Marketing/Sales\n",
      "Masonry\n",
      "Masonry Occupations\n",
      "Masonry/Bricklaying\n",
      "Material Handling\n",
      "Mathematics, 10-12\n",
      "Mathematics, Staff Coach\n",
      "Meat Cutting\n",
      "Mechanical Design Technology\n",
      "Mechanical Drawing (Vocational)\n",
      "Mechanical Technology\n",
      "Medical Assistant\n",
      "Medical Records Technology\n",
      "Metal Fabrication\n",
      "Metalworking Occupations\n",
      "Middle Level English, 7-9\n",
      "Middle Level Mathematics, 7-9\n",
      "Middle Level Science, 7-9\n",
      "Middle Level Social Studies, 7-9\n",
      "Middle School Principal\n",
      "Military Science (ROTC)\n",
      "Millwork and Cabinet Making\n",
      "Music, Elementary, PreK-6\n",
      "Music, Secondary, 7-12\n",
      "Network Systems Technology\n",
      "Nurses Aide\n",
      "Occupational Therapist\n",
      "Occupational Therapy Assistant\n",
      "Occupations - Retarded Youth\n",
      "Office Technologies\n",
      "Ornamental Horticulture\n",
      "Other Business Subjects\n",
      "Other Not Listed Above (certificated personnel)\n",
      "Other Not Listed Above (non-certificated personnel)\n",
      "Painting and Decorating\n",
      "Passenger Transportation Marketing\n",
      "Petroleum Production\n",
      "Philosophy\n",
      "Physical Education\n",
      "Physical Science, Advanced, 10-12\n",
      "Physical Science, Intermediate, 10-12\n",
      "Physical Therapist\n",
      "Physical Therapy Assistant\n",
      "Physics, 10-12\n",
      "Planetarium, Meteorological Station\n",
      "Plumbing\n",
      "Power Mechanics Occupations\n",
      "Practical Nursing\n",
      "Pre Kindergarten (PreK)\n",
      "Printing\n",
      "Protective Service Occupations\n",
      "Psychological Examiner\n",
      "Psychology, Interdisciplinary Science\n",
      "Psychology, Social or Behavioral Science\n",
      "Quantity Foods\n",
      "ROTC Instructor\n",
      "Radio/Television\n",
      "Related Subjects\n",
      "Restaurant Practice\n",
      "Retail Commercial Baking\n",
      "Russian\n",
      "Safety Education\n",
      "School Nurse\n",
      "School Program Specialist\n",
      "School Psychologist\n",
      "School Social Worker\n",
      "Science, Interdisciplinary Advanced, 10-12\n",
      "Secondary Principal\n",
      "Secondary School Counselor\n",
      "Secretarial, Shorthand, and Office Practice\n",
      "Security Services\n",
      "Sewing\n",
      "Sheet Metal\n",
      "Small Engine Repair\n",
      "Social Restoration\n",
      "Social Science\n",
      "Social Studies, 10-12\n",
      "Sociology, 10-12\n",
      "Spanish, 7-12\n",
      "Spanish, Elementary, PreK-6\n",
      "Special Ed, Elementary Subjects, PreK-6\n",
      "Special Ed, Middle Level English, 7-9\n",
      "Special Ed, Middle Level Math, 7-9\n",
      "Special Ed, Middle Level Science, 7-9\n",
      "Special Ed, Middle Level Social Studies, 7-9\n",
      "Special Ed, Resource PreK-12\n",
      "Special Ed, Secondary English, 10-12\n",
      "Special Ed, Secondary Math, 10-12\n",
      "Special Ed, Secondary Science, 10-12\n",
      "Special Ed, Secondary Social Studies, 10-12\n",
      "Speech\n",
      "Speech Correction, Elementary, PreK-6\n",
      "Speech Correction, Secondary, 7-12\n",
      "Substitute Superintendent\n",
      "Superintendent\n",
      "Supervisor, Art, K-12\n",
      "Supervisor, Business Education\n",
      "Supervisor, Comprehensive Vocational Education\n",
      "Supervisor, Curriculum and Instruction\n",
      "Supervisor, Distributive Education\n",
      "Supervisor, Early Childhood\n",
      "Supervisor, Elementary Education\n",
      "Supervisor, English/Communication\n",
      "Supervisor, Environmental Education\n",
      "Supervisor, Foreign Languages\n",
      "Supervisor, Gifted Programs\n",
      "Supervisor, Health and Physical Education, K-12\n",
      "Supervisor, Health and Physical Education, Secondary\n",
      "Supervisor, Home Economics\n",
      "Supervisor, Industrial Arts\n",
      "Supervisor, Instructional Technology\n",
      "Supervisor, Library Science\n",
      "Supervisor, Mathematics\n",
      "Supervisor, Music, K-12\n",
      "Supervisor, Pupil Personnel Services\n",
      "Supervisor, Reading\n",
      "Supervisor, School Guidance Services\n",
      "Supervisor, School Health Services\n",
      "Supervisor, School Psychological Services\n",
      "Supervisor, School Social Services\n",
      "Supervisor, Science\n",
      "Supervisor, Secondary Education\n",
      "Supervisor, Social Studies\n",
      "Supervisor, Special Education\n",
      "Supervisor, Vocational Education\n",
      "Technology Education, Elementary, PreK-6\n",
      "Technology Education, Secondary, 7-12\n",
      "Telecommunications Technology\n",
      "Textile Production/Fabrication\n",
      "Title I/Remedial Math, Elementary, PreK-6\n",
      "Title I/Remedial Math, Secondary, 7-12\n",
      "Tool and Die Design Technology\n",
      "Trade and Industrial\n",
      "Typewriting\n",
      "Veterinarian Assistant\n",
      "Visually Impaired Elementary, PreK-6\n",
      "Visually Impaired Middle Level English, 7-9\n",
      "Visually Impaired Middle Level Math, 7-9\n",
      "Visually Impaired Middle Level Science, 7-9\n",
      "Visually Impaired Middle Level Social Studies, 7-9\n",
      "Visually Impaired Resource, PreK-12\n",
      "Visually Impaired Secondary English, 10-12\n",
      "Visually Impaired Secondary Math, 10-12\n",
      "Visually Impaired Secondary Social Studies, 10-12\n",
      "Visually Impaired, Elementary\n",
      "Visually Impaired, Secondary\n",
      "Vocational Instruction\n",
      "Warehousing\n",
      "Welding\n"
     ]
    }
   ],
   "source": [
    "\"\"\"\n",
    "Printing all of the unique Assignment Descriptions from 2014 - 2015 data\n",
    "\"\"\"\n",
    "assignments_14_15 = df_14_15.groupby(\"Assignment Description\")['PublicID'].nunique()\n",
    "print(assignments_14_15)\n",
    "for x in assignments_14_15.keys():\n",
    "    print(x)"
   ]
  },
  {
   "cell_type": "code",
   "execution_count": 176,
   "id": "dbc2a4c3",
   "metadata": {},
   "outputs": [
    {
     "name": "stdout",
     "output_type": "stream",
     "text": [
      "Assignment Description\n",
      "Accounting/Bookkeeping             188\n",
      "Acting Assistant Superintendent      4\n",
      "Acting Superintendent               17\n",
      "Aeronautical Technology              1\n",
      "Agricultural Mechanics              17\n",
      "                                  ... \n",
      "Visually Impaired, Elementary       20\n",
      "Visually Impaired, Secondary        18\n",
      "Vocational Instruction              68\n",
      "Warehousing                         12\n",
      "Welding                             95\n",
      "Name: PublicID, Length: 348, dtype: int64\n",
      "Accounting/Bookkeeping\n",
      "Acting Assistant Superintendent\n",
      "Acting Superintendent\n",
      "Aeronautical Technology\n",
      "Agricultural Mechanics\n",
      "Agricultural Power and Machinery\n",
      "Agriculture\n",
      "Air Conditioning\n",
      "Air Conditioning/Refrigeration\n",
      "Allied Health Science Technology\n",
      "Alternate Education Program, K-6\n",
      "Alternate Education, Middle Level English, 7-9\n",
      "Alternate Education, Middle Level Math, 7-9\n",
      "Alternate Education, Middle Level Science, 7-9\n",
      "Alternate Education, Middle Level Social Studies, 7-9\n",
      "Alternate Education, Secondary English, 10-12\n",
      "Alternate Education, Secondary Math, 10-12\n",
      "Alternate Education, Secondary Science, 10-12\n",
      "Alternate Education, Secondary Social Studies, 10-12\n",
      "Alternative Education, K-12 Resource Room\n",
      "Anthropology\n",
      "Arabic\n",
      "Arboretum, Aviary, Greenhouse\n",
      "Architectural-Design Technology\n",
      "Art, Elementary (PreK-6)\n",
      "Art, Secondary (7-12)\n",
      "Assistant Superintendent\n",
      "Assistant Vocational Director\n",
      "Assistant or Vice Elementary Principal\n",
      "Assistant or Vice Middle School Principal\n",
      "Assistant or Vice Secondary Principal\n",
      "Assistant to the Superintendent in Charge of Business Affairs\n",
      "Assistant to the Superintendent in Charge of Instruction\n",
      "Audio-visual Communications Technology\n",
      "Automotive Body and Fender\n",
      "Automotive Maintenance\n",
      "Automotive Mechanics\n",
      "Automotive Technician\n",
      "Automotive Technology\n",
      "Baker\n",
      "Barbering\n",
      "Biological Technology\n",
      "Biology\n",
      "Blue Print Reading\n",
      "Brick Masonry\n",
      "Building Construction Trades\n",
      "Building Trades Maintenance\n",
      "Business Education, Elementary\n",
      "Business Education, Secondary\n",
      "Business Manager\n",
      "Carpentry\n",
      "Chemical Technology\n",
      "Chemistry\n",
      "Chief Administrative Officer (charter schools only)\n",
      "Child Care Services\n",
      "Chinese\n",
      "Citizenship\n",
      "Civil Technology\n",
      "Commercial Art\n",
      "Commercial Photography\n",
      "Computer Science, Elementary, PreK-6\n",
      "Computer Science, Secondary, 7-12\n",
      "Computer Servicing Technology\n",
      "Computer Technology\n",
      "Computer Technology Specialist\n",
      "Consumer Services\n",
      "Cook/Chef\n",
      "Cooperative Education\n",
      "Coordinator, Marketing/Distributive Education\n",
      "Coordinator, Practical Nursing\n",
      "Coordinator, Specially Funded Programs\n",
      "Coordinator, Vocational Education\n",
      "Cosmetology\n",
      "Custodial Services\n",
      "Dance\n",
      "Data Processing\n",
      "Dental Assistant\n",
      "Dental Hygienist\n",
      "Developmental Reading, Elementary Classes, PreK-6\n",
      "Developmental Reading, Secondary Classes, 7-12\n",
      "Diagnostic/Prescriptive Reading, Elementary, PreK-6\n",
      "Diagnostic/Prescriptive Reading, Secondary, 7-12\n",
      "Diesel Mechanic\n",
      "Digital Technology\n",
      "Director of Athletics\n",
      "Director of Management Information Systems\n",
      "Director of Personnel\n",
      "Director of Recreation\n",
      "Director, Vocational Education\n",
      "Distributive Education\n",
      "Drafting\n",
      "Drafting-Architectural\n",
      "Drafting-Mechanical\n",
      "Drama\n",
      "Driver Education\n",
      "Earth and Space Science, Advanced\n",
      "Earth and Space Science, Intermediate\n",
      "Economics\n",
      "Education Program Specialist\n",
      "Electrical Occupations\n",
      "Electrical Power and Comm. Lineperson\n",
      "Electrical Technology\n",
      "Electrical, Construction/Maintenance\n",
      "Electrical, General\n",
      "Electrical, Industrial\n",
      "Electro-Mechanical Technology\n",
      "Electronic Product Servicing\n",
      "Electronics\n",
      "Electronics Communications\n",
      "Electronics Technology\n",
      "Elementary Principal\n",
      "Elementary School Counselor\n",
      "Elementary, Intermediate Grades 4-6\n",
      "Elementary, Primary Grades 1-3\n",
      "Engineering Related Technology\n",
      "English as Second Language, Elementary, PreK-6\n",
      "English as Second Language, K-12 Resource (Take student out for language support)\n",
      "English as Second Language, Middle Level English, 7-9\n",
      "English as Second Language, Middle Level Math, 7-9\n",
      "English as Second Language, Middle Level Science, 7-9\n",
      "English as Second Language, Middle Level Social Studies, 7-9\n",
      "English as Second Language, Secondary English, 10-12\n",
      "English as Second Language, Secondary Math, 10-12\n",
      "English as Second Language, Secondary Science, 10-12\n",
      "English as Second Language, Secondary Social Studies, 10-12\n",
      "English/Communication, 10-12\n",
      "Environmental Control Technology\n",
      "Environmental Education\n",
      "Family/Consumer Sciences, Elementary, PreK-6\n",
      "Family/Consumer Sciences, Secondary, 7-12\n",
      "Floriculture\n",
      "Food Service Manager\n",
      "French, 6-12\n",
      "French, Elementary, PreK-6\n",
      "General Science, Advanced, 10-12\n",
      "General Science, Intermediate, 10-12\n",
      "Geography, 10-12\n",
      "German, 7-12\n",
      "German, Elementary, PreK-6\n",
      "Gifted Classes, Elementary. PreK-6\n",
      "Gifted Classes, Tutorial/Resource, Secondary, 7-12\n",
      "Government, 10-12\n",
      "Graphic Arts\n",
      "Graphic Occupations\n",
      "Health\n",
      "Health Assistant\n",
      "Health Related Technology\n",
      "Health and Physical Education, Elementary, PreK-6\n",
      "Health and Physical Education, Secondary, 7-12\n",
      "Hearing Impaired Elementary, PreK-6\n",
      "Hearing Impaired Middle Level English, 7-9\n",
      "Hearing Impaired Middle Level Math, 7-9\n",
      "Hearing Impaired Middle Level Science, 7-9\n",
      "Hearing Impaired Middle Level Social Studies, 7-9\n",
      "Hearing Impaired Resource, PreK-12\n",
      "Hearing Impaired Secondary English, 10-12\n",
      "Hearing Impaired Secondary Math, 10-12\n",
      "Hearing Impaired Secondary Science, 10-12\n",
      "Hearing Impaired Secondary Social Studies, 10-12\n",
      "Hearing Impaired, Elementary\n",
      "Hearing Impaired, Secondary\n",
      "Heating\n",
      "Heavy Equipment Construction\n",
      "Hebrew\n",
      "History, 10-12\n",
      "Home Economics\n",
      "Home and School Visitor\n",
      "Horticulture/Floriculture\n",
      "Hospital Food Service\n",
      "Hotel/Motel Management\n",
      "Industrial Arts, Automotives Unit Shop\n",
      "Industrial Arts, Ceramics Unit Shop\n",
      "Industrial Arts, Drawing Unit Shop\n",
      "Industrial Arts, Electricity Unit Shop\n",
      "Industrial Arts, Graphic Arts Unit Shop\n",
      "Industrial Arts, Metal Unit Shop\n",
      "Industrial Arts, Printing Unit Shop\n",
      "Industrial Arts, Textiles Unit Shop\n",
      "Industrial Arts, Wood Unit Shop\n",
      "Industrial Arts/Technology Education\n",
      "Industrial Technology\n",
      "Instructional Support Teachers\n",
      "Instructional Technology Specialist\n",
      "Interior Decorating\n",
      "Intermediate Unit Assistant Executive Director\n",
      "Intermediate Unit Executive Director\n",
      "Intermediate Unit Program Specialist\n",
      "Italian\n",
      "Japanese\n",
      "Journalism\n",
      "Kindergarten, age 4 (K4)\n",
      "Kindergarten, age 5 (K5)\n",
      "Latin, 7-12\n",
      "Latin, Elementary, PreK-6\n",
      "Law Enforcement\n",
      "Library Sciences, Elementary, PreK-6\n",
      "Library Sciences, Secondary, 7-12\n",
      "Life Science, Intermediate, 10-12\n",
      "Literacy, Staff Coach\n",
      "Lumbering\n",
      "Machine Shop\n",
      "Marketing/Sales\n",
      "Masonry\n",
      "Masonry Occupations\n",
      "Masonry/Bricklaying\n",
      "Material Handling\n",
      "Mathematics, 10-12\n",
      "Mathematics, Staff Coach\n",
      "Mechanical Design Technology\n",
      "Medical Assistant\n",
      "Medical Records Technology\n",
      "Metal Fabrication\n",
      "Metallurgical Technology\n",
      "Metalworking Occupations\n",
      "Middle Level English, 7-9\n",
      "Middle Level Mathematics, 7-9\n",
      "Middle Level Science, 7-9\n",
      "Middle Level Social Studies, 7-9\n",
      "Middle School Principal\n",
      "Military Science (ROTC)\n",
      "Millwork and Cabinet Making\n",
      "Music, Elementary, PreK-6\n",
      "Music, Secondary, 7-12\n",
      "Network Systems Technology\n",
      "Nurses Aide\n",
      "Occupational Therapist\n",
      "Occupational Therapy Assistant\n",
      "Office Technologies\n",
      "Ornamental Horticulture\n",
      "Other Business Subjects\n",
      "Other Not Listed Above (certificated personnel)\n",
      "Other Not Listed Above (non-certificated personnel)\n",
      "Other, Staff Coach (Not Math, Literacy, Science, or Special Education)\n",
      "Painting and Decorating\n",
      "Petroleum Production\n",
      "Philosophy\n",
      "Physical Education\n",
      "Physical Science, Advanced, 10-12\n",
      "Physical Science, Intermediate, 10-12\n",
      "Physical Therapist\n",
      "Physical Therapy Assistant\n",
      "Physics, 10-12\n",
      "Planetarium, Meteorological Station\n",
      "Plumbing\n",
      "Portuguese\n",
      "Practical Nursing\n",
      "Pre Kindergarten (PreK)\n",
      "Protective Service Occupations\n",
      "Psychological Examiner\n",
      "Psychology, Interdisciplinary Science\n",
      "Psychology, Social or Behavioral Science\n",
      "Quantity Foods\n",
      "ROTC Instructor\n",
      "Radio/Television\n",
      "Related Subjects\n",
      "Restaurant Practice\n",
      "Retail Commercial Baking\n",
      "Russian\n",
      "Safety Education\n",
      "School Nurse\n",
      "School Program Specialist\n",
      "School Psychologist\n",
      "School Safety and Security Coordinator\n",
      "School Social Worker\n",
      "Science, Interdisciplinary Advanced, 10-12\n",
      "Science, Staff Coach\n",
      "Secondary Principal\n",
      "Secondary School Counselor\n",
      "Secretarial, Shorthand, and Office Practice\n",
      "Security Services\n",
      "Sewing\n",
      "Small Engine Repair\n",
      "Social Restoration\n",
      "Social Science\n",
      "Social Studies, 10-12\n",
      "Sociology, 10-12\n",
      "Spanish, 7-12\n",
      "Spanish, Elementary, PreK-6\n",
      "Special Ed, Elementary Subjects, PreK-6\n",
      "Special Ed, Life Skills, Autistic and Multiple-Disability Support\n",
      "Special Ed, Middle Level English, 7-9\n",
      "Special Ed, Middle Level Math, 7-9\n",
      "Special Ed, Middle Level Science, 7-9\n",
      "Special Ed, Middle Level Social Studies, 7-9\n",
      "Special Ed, Resource PreK-12\n",
      "Special Ed, Secondary English, 10-12\n",
      "Special Ed, Secondary Math, 10-12\n",
      "Special Ed, Secondary Science, 10-12\n",
      "Special Ed, Secondary Social Studies, 10-12\n",
      "Special Ed, Staff Coach\n",
      "Speech\n",
      "Speech Correction, Elementary, PreK-6\n",
      "Speech Correction, Secondary, 7-12\n",
      "Superintendent\n",
      "Supervisor, Art, Elementary\n",
      "Supervisor, Art, K-12\n",
      "Supervisor, Art, Secondary, 7-12\n",
      "Supervisor, Business Education\n",
      "Supervisor, Comprehensive Vocational Education\n",
      "Supervisor, Cooperative Education\n",
      "Supervisor, Curriculum and Instruction\n",
      "Supervisor, Early Childhood\n",
      "Supervisor, Elementary Education\n",
      "Supervisor, English/Communication\n",
      "Supervisor, Environmental Education\n",
      "Supervisor, Foreign Languages\n",
      "Supervisor, Gifted Programs\n",
      "Supervisor, Health and Physical Education, K-12\n",
      "Supervisor, Health and Physical Education, Secondary\n",
      "Supervisor, Industrial Arts\n",
      "Supervisor, Instructional Technology\n",
      "Supervisor, Library Science\n",
      "Supervisor, Mathematics\n",
      "Supervisor, Music, K-12\n",
      "Supervisor, Music, Secondary\n",
      "Supervisor, Pupil Personnel Services\n",
      "Supervisor, Reading\n",
      "Supervisor, Safety Education/Driver Education\n",
      "Supervisor, School Guidance Services\n",
      "Supervisor, School Health Services\n",
      "Supervisor, School Psychological Services\n",
      "Supervisor, School Social Services\n",
      "Supervisor, Science\n",
      "Supervisor, Secondary Education\n",
      "Supervisor, Social Studies\n",
      "Supervisor, Special Education\n",
      "Supervisor, Vocational Education\n",
      "Surgical (Operating Room) Technician\n",
      "Technology Education, Elementary, PreK-6\n",
      "Technology Education, Secondary, 7-12\n",
      "Telecommunications Technology\n",
      "Textile Production/Fabrication\n",
      "Title I/Remedial Math, Elementary, PreK-6\n",
      "Title I/Remedial Math, Secondary, 7-12\n",
      "Tool and Die Design Technology\n",
      "Trade and Industrial\n",
      "Typewriting\n",
      "Veterinarian Assistant\n",
      "Visually Impaired Elementary, PreK-6\n",
      "Visually Impaired Resource, PreK-12\n",
      "Visually Impaired Secondary English, 10-12\n",
      "Visually Impaired Secondary Math, 10-12\n",
      "Visually Impaired Secondary Social Studies, 10-12\n",
      "Visually Impaired, Elementary\n",
      "Visually Impaired, Secondary\n",
      "Vocational Instruction\n",
      "Warehousing\n",
      "Welding\n"
     ]
    }
   ],
   "source": [
    "\"\"\"\n",
    "Printing all of the unique Assignment Descriptions from 2021 - 2022 data\n",
    "\"\"\"\n",
    "\n",
    "assignments_21_22 = df_21_22.groupby(\"Assignment Description\")['PublicID'].nunique()\n",
    "print(assignments_21_22)\n",
    "for x in assignments_21_22.keys():\n",
    "    print(x)"
   ]
  },
  {
   "cell_type": "code",
   "execution_count": 171,
   "id": "2b240aa8",
   "metadata": {},
   "outputs": [
    {
     "name": "stdout",
     "output_type": "stream",
     "text": [
      "5787\n"
     ]
    }
   ],
   "source": [
    "\"\"\"\n",
    "Finding the number of teachers assigned as 'Music, Elementary, PreK-6' in 2014-2015.\n",
    "\"\"\"\n",
    "music_13_14 = df_13_14[df_13_14[\"Assignment Description\"].str.contains('Music, Elementary, PreK-6')]\n",
    "print(len(music_13_14))"
   ]
  },
  {
   "cell_type": "code",
   "execution_count": 174,
   "id": "3044a2a1",
   "metadata": {
    "scrolled": true
   },
   "outputs": [
    {
     "name": "stdout",
     "output_type": "stream",
     "text": [
      "3034\n"
     ]
    }
   ],
   "source": [
    "\"\"\"\n",
    "Finding the number of teachers assigned as 'Music, Secondary, 7-12' in 2014-2015.\n",
    "\"\"\"\n",
    "music_13_14 = df_13_14[df_13_14[\"Assignment Description\"].str.contains('Music, Secondary, 7-12')]\n",
    "print(len(music_13_14))\n"
   ]
  },
  {
   "cell_type": "code",
   "execution_count": 177,
   "id": "09583ac2",
   "metadata": {
    "scrolled": true
   },
   "outputs": [
    {
     "name": "stdout",
     "output_type": "stream",
     "text": [
      "8830\n"
     ]
    }
   ],
   "source": [
    "music_21_22 = df_21_22[df_21_22[\"Assignment Description\"].str.contains('Music, Elementary, PreK-6')]\n",
    "print(len(music))"
   ]
  },
  {
   "cell_type": "code",
   "execution_count": 175,
   "id": "02e00562",
   "metadata": {},
   "outputs": [
    {
     "name": "stdout",
     "output_type": "stream",
     "text": [
      "8830\n"
     ]
    }
   ],
   "source": [
    "music_21_22 = df_21_22[df_21_22[\"Assignment Description\"].str.contains('Music, Secondary, 7-12')]\n",
    "print(len(music))"
   ]
  },
  {
   "cell_type": "code",
   "execution_count": 192,
   "id": "a2a03f90",
   "metadata": {},
   "outputs": [
    {
     "name": "stdout",
     "output_type": "stream",
     "text": [
      "2235\n"
     ]
    }
   ],
   "source": [
    "\"\"\"\n",
    "Finding the number of teachers assigned as 'Art, Secondary' in 2014-2015.\n",
    "\"\"\"\n",
    "art_13_14_sec = df_13_14[df_13_14[\"Assignment Description\"].str.contains('Art, Secondary')]\n",
    "print(len(art_13_14_sec))"
   ]
  },
  {
   "cell_type": "code",
   "execution_count": 193,
   "id": "0930a3ab",
   "metadata": {},
   "outputs": [
    {
     "name": "stdout",
     "output_type": "stream",
     "text": [
      "3368\n"
     ]
    }
   ],
   "source": [
    "\"\"\"\n",
    "Finding the number of teachers assigned as 'Art, Elementary' in 2014-2015.\n",
    "\"\"\"\n",
    "art_13_14_elem = df_13_14[df_13_14[\"Assignment Description\"].str.contains('Art, Elementary')]\n",
    "print(len(art_13_14_elem))"
   ]
  },
  {
   "cell_type": "code",
   "execution_count": 194,
   "id": "fa90d2e0",
   "metadata": {},
   "outputs": [
    {
     "name": "stdout",
     "output_type": "stream",
     "text": [
      "2197\n"
     ]
    }
   ],
   "source": [
    "\"\"\"\n",
    "Finding the number of teachers assigned as 'Art, Secondary' in 2021-2022.\n",
    "\"\"\"\n",
    "art_21_22_sec = df_21_22[df_21_22[\"Assignment Description\"].str.contains('Art, Secondary')]\n",
    "print(len(art_21_22_sec))"
   ]
  },
  {
   "cell_type": "code",
   "execution_count": 195,
   "id": "2cf26620",
   "metadata": {},
   "outputs": [
    {
     "name": "stdout",
     "output_type": "stream",
     "text": [
      "2125\n"
     ]
    }
   ],
   "source": [
    "\"\"\"\n",
    "Finding the number of teachers assigned as 'Art, Elementary' in 2021-2022.\n",
    "\"\"\"\n",
    "art_21_22_elem = df_21_22[df_21_22[\"Assignment Description\"].str.contains('Art, Elementary')]\n",
    "print(len(art_21_22_elem))"
   ]
  },
  {
   "cell_type": "code",
   "execution_count": null,
   "id": "0233393c",
   "metadata": {},
   "outputs": [],
   "source": []
  }
 ],
 "metadata": {
  "kernelspec": {
   "display_name": "Python 3 (ipykernel)",
   "language": "python",
   "name": "python3"
  },
  "language_info": {
   "codemirror_mode": {
    "name": "ipython",
    "version": 3
   },
   "file_extension": ".py",
   "mimetype": "text/x-python",
   "name": "python",
   "nbconvert_exporter": "python",
   "pygments_lexer": "ipython3",
   "version": "3.9.12"
  }
 },
 "nbformat": 4,
 "nbformat_minor": 5
}
